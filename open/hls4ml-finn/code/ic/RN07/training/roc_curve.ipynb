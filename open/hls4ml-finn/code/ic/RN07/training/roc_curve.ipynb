{
 "cells": [
  {
   "cell_type": "code",
   "execution_count": 1,
   "id": "d3e2bd47",
   "metadata": {},
   "outputs": [
    {
     "name": "stdout",
     "output_type": "stream",
     "text": [
      "Wed Jul 27 15:02:51 2022       \n",
      "+-----------------------------------------------------------------------------+\n",
      "| NVIDIA-SMI 495.29.05    Driver Version: 495.29.05    CUDA Version: 11.5     |\n",
      "|-------------------------------+----------------------+----------------------+\n",
      "| GPU  Name        Persistence-M| Bus-Id        Disp.A | Volatile Uncorr. ECC |\n",
      "| Fan  Temp  Perf  Pwr:Usage/Cap|         Memory-Usage | GPU-Util  Compute M. |\n",
      "|                               |                      |               MIG M. |\n",
      "|===============================+======================+======================|\n",
      "|   0  NVIDIA GeForce ...  Off  | 00000000:0A:00.0 Off |                  N/A |\n",
      "| 35%   28C    P8    N/A /  30W |     47MiB /  1998MiB |      0%      Default |\n",
      "|                               |                      |                  N/A |\n",
      "+-------------------------------+----------------------+----------------------+\n",
      "                                                                               \n",
      "+-----------------------------------------------------------------------------+\n",
      "| Processes:                                                                  |\n",
      "|  GPU   GI   CI        PID   Type   Process name                  GPU Memory |\n",
      "|        ID   ID                                                   Usage      |\n",
      "|=============================================================================|\n",
      "|    0   N/A  N/A      2276      G   /usr/libexec/Xorg                  39MiB |\n",
      "|    0   N/A  N/A      2348      G   /usr/bin/gnome-shell                6MiB |\n",
      "+-----------------------------------------------------------------------------+\n",
      "setGPU: Setting GPU to: 0\n"
     ]
    },
    {
     "name": "stderr",
     "output_type": "stream",
     "text": [
      "2022-07-27 15:02:57.421827: I tensorflow/stream_executor/cuda/cuda_gpu_executor.cc:975] successful NUMA node read from SysFS had negative value (-1), but there must be at least one NUMA node, so returning NUMA node zero\n",
      "2022-07-27 15:02:57.441102: W tensorflow/stream_executor/platform/default/dso_loader.cc:64] Could not load dynamic library 'libcudnn.so.8'; dlerror: libcudnn.so.8: cannot open shared object file: No such file or directory\n",
      "2022-07-27 15:02:57.441113: W tensorflow/core/common_runtime/gpu/gpu_device.cc:1850] Cannot dlopen some GPU libraries. Please make sure the missing libraries mentioned above are installed properly if you would like to use GPU. Follow the guide at https://www.tensorflow.org/install/gpu for how to download and setup the required libraries for your platform.\n",
      "Skipping registering GPU devices...\n",
      "2022-07-27 15:02:57.441451: I tensorflow/core/platform/cpu_feature_guard.cc:193] This TensorFlow binary is optimized with oneAPI Deep Neural Network Library (oneDNN) to use the following CPU instructions in performance-critical operations:  AVX2 FMA\n",
      "To enable them in other operations, rebuild TensorFlow with the appropriate compiler flags.\n"
     ]
    }
   ],
   "source": [
    "import os\n",
    "if os.system('nvidia-smi') == 0:\n",
    "    import setGPU\n",
    "import tensorflow as tf\n",
    "import glob\n",
    "import sys\n",
    "import argparse\n",
    "from tensorflow.keras.preprocessing.image import ImageDataGenerator\n",
    "from sklearn.metrics import roc_auc_score\n",
    "import resnet_v1_eembc\n",
    "import yaml\n",
    "import csv\n",
    "# from keras_flops import get_flops # (different flop calculation)\n",
    "import kerop\n",
    "import training_pokemon as pk  #gets already formated pokemon dataset (images --> numpy arrays)\n",
    "from tensorflow.keras.layers.experimental.preprocessing import RandomCrop\n",
    "random_crop_model = tf.keras.models.Sequential()\n",
    "random_crop_model.add(RandomCrop(32, 32, input_shape=(32, 32, 3,)))"
   ]
  },
  {
   "cell_type": "code",
   "execution_count": 2,
   "id": "8888750d",
   "metadata": {},
   "outputs": [
    {
     "name": "stdout",
     "output_type": "stream",
     "text": [
      "Found 480 files belonging to 10 classes.\n",
      "Found 480 files belonging to 10 classes.\n",
      "Using 384 files for training.\n",
      "Found 480 files belonging to 10 classes.\n",
      "Using 96 files for validation.\n"
     ]
    },
    {
     "name": "stderr",
     "output_type": "stream",
     "text": [
      "2022-07-27 15:03:53.861727: W tensorflow/core/lib/png/png_io.cc:88] PNG warning: iCCP: known incorrect sRGB profile\n",
      "2022-07-27 15:03:53.918660: W tensorflow/core/lib/png/png_io.cc:88] PNG warning: iCCP: known incorrect sRGB profile\n",
      "2022-07-27 15:03:53.976941: W tensorflow/core/lib/png/png_io.cc:88] PNG warning: iCCP: known incorrect sRGB profile\n",
      "2022-07-27 15:03:54.089650: W tensorflow/core/lib/png/png_io.cc:88] PNG warning: iCCP: known incorrect sRGB profile\n",
      "2022-07-27 15:03:54.101614: W tensorflow/core/lib/png/png_io.cc:88] PNG warning: iCCP: known incorrect sRGB profile\n",
      "2022-07-27 15:03:54.158727: W tensorflow/core/lib/png/png_io.cc:88] PNG warning: iCCP: known incorrect sRGB profile\n"
     ]
    },
    {
     "ename": "NameError",
     "evalue": "name 'num_classes' is not defined",
     "output_type": "error",
     "traceback": [
      "\u001b[0;31m---------------------------------------------------------------------------\u001b[0m",
      "\u001b[0;31mNameError\u001b[0m                                 Traceback (most recent call last)",
      "Input \u001b[0;32mIn [2]\u001b[0m, in \u001b[0;36m<cell line: 5>\u001b[0;34m()\u001b[0m\n\u001b[1;32m      2\u001b[0m X_train, y_train, X_test, y_test \u001b[38;5;241m=\u001b[39m pk\u001b[38;5;241m.\u001b[39mget_pokemon_dataset()\n\u001b[1;32m      3\u001b[0m X_train, X_test \u001b[38;5;241m=\u001b[39m X_train\u001b[38;5;241m/\u001b[39m\u001b[38;5;241m256.\u001b[39m, X_test\u001b[38;5;241m/\u001b[39m\u001b[38;5;241m256.\u001b[39m\n\u001b[0;32m----> 5\u001b[0m y_train \u001b[38;5;241m=\u001b[39m tf\u001b[38;5;241m.\u001b[39mkeras\u001b[38;5;241m.\u001b[39mutils\u001b[38;5;241m.\u001b[39mto_categorical(y_train, \u001b[43mnum_classes\u001b[49m)\n\u001b[1;32m      6\u001b[0m y_test \u001b[38;5;241m=\u001b[39m tf\u001b[38;5;241m.\u001b[39mkeras\u001b[38;5;241m.\u001b[39mutils\u001b[38;5;241m.\u001b[39mto_categorical(y_test, num_classes)\n\u001b[1;32m      7\u001b[0m \u001b[38;5;28;01mif\u001b[39;00m loss \u001b[38;5;241m==\u001b[39m \u001b[38;5;124m'\u001b[39m\u001b[38;5;124msquared_hinge\u001b[39m\u001b[38;5;124m'\u001b[39m:\n",
      "\u001b[0;31mNameError\u001b[0m: name 'num_classes' is not defined"
     ]
    }
   ],
   "source": [
    "# load dataset\n",
    "X_train, y_train, X_test, y_test = pk.get_pokemon_dataset()\n",
    "X_train, X_test = X_train/256., X_test/256.\n",
    "\n",
    "y_train = tf.keras.utils.to_categorical(y_train, num_classes)\n",
    "y_test = tf.keras.utils.to_categorical(y_test, num_classes)\n",
    "if loss == 'squared_hinge':\n",
    "    y_train = y_train * 2 - 1  # -1 or 1 for hinge loss\n",
    "    y_test = y_test * 2 - 1"
   ]
  },
  {
   "cell_type": "code",
   "execution_count": null,
   "id": "4148c4fd",
   "metadata": {},
   "outputs": [],
   "source": [
    "# restore \"best\" model\n",
    "model.load_weights(model_file_path)\n",
    "\n",
    "# get predictions\n",
    "y_pred = model.predict(X_test)\n",
    "y_pred_proba = model.predict_proba(X_test)\n",
    "\n",
    "# evaluate with test dataset and share same prediction results\n",
    "evaluation = model.evaluate(X_test, y_test)\n",
    "\n",
    "auc = roc_auc_score(y_test, y_pred, average='weighted', multi_class='ovr')\n",
    "\n",
    "print('Model test accuracy = %.3f' % evaluation[1])\n",
    "print('Model test weighted average AUC = %.3f' % auc)"
   ]
  }
 ],
 "metadata": {
  "kernelspec": {
   "display_name": "Python 3 (ipykernel)",
   "language": "python",
   "name": "python3"
  },
  "language_info": {
   "codemirror_mode": {
    "name": "ipython",
    "version": 3
   },
   "file_extension": ".py",
   "mimetype": "text/x-python",
   "name": "python",
   "nbconvert_exporter": "python",
   "pygments_lexer": "ipython3",
   "version": "3.8.13"
  }
 },
 "nbformat": 4,
 "nbformat_minor": 5
}
